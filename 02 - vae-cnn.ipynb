{
 "cells": [
  {
   "cell_type": "code",
   "execution_count": 1,
   "id": "1bdf4431-1cfb-4f62-94b9-e93e7976a889",
   "metadata": {},
   "outputs": [],
   "source": [
    "import tensorflow as tf\n",
    "from tensorflow.keras.layers import Input, Dense, Lambda, Conv2D, Dropout, Flatten, Reshape, Conv2DTranspose\n",
    "from tensorflow.keras.models import Model\n",
    "from tensorflow.keras.losses import BinaryCrossentropy as bce\n",
    "from tensorflow.keras.datasets import mnist\n",
    "import numpy as np\n",
    "import matplotlib.pyplot as plt\n",
    "from scipy.stats import norm\n",
    "from tqdm import tqdm"
   ]
  },
  {
   "cell_type": "markdown",
   "id": "93fd6819",
   "metadata": {},
   "source": [
    "### Load dataset"
   ]
  },
  {
   "cell_type": "code",
   "execution_count": 2,
   "id": "239ac14d",
   "metadata": {},
   "outputs": [],
   "source": [
    "(x_train, y_train), (x_test, y_test) = mnist.load_data()\n",
    "\n",
    "x_train = x_train.astype('float32') / 255.\n",
    "x_test = x_test.astype('float32') / 255.\n",
    "x_train = x_train[:,:,:,tf.newaxis]\n",
    "x_test = x_test[:,:,:,tf.newaxis]"
   ]
  },
  {
   "cell_type": "markdown",
   "id": "b2dc4134",
   "metadata": {},
   "source": [
    "### Model"
   ]
  },
  {
   "cell_type": "code",
   "execution_count": 3,
   "id": "e419c8cd",
   "metadata": {},
   "outputs": [],
   "source": [
    "batch_size = 100\n",
    "original_dim = 28 * 28\n",
    "latent_dim = 128\n",
    "epochs = 50\n",
    "epsilon_std = 1.0\n",
    "img_height = 28\n",
    "img_width = 28\n",
    "no_channels = 1"
   ]
  },
  {
   "cell_type": "code",
   "execution_count": 4,
   "id": "6e97397e",
   "metadata": {},
   "outputs": [],
   "source": [
    "def sampling(args):\n",
    "    z_mean, z_log_var = args\n",
    "    epsilon = tf.random.normal(shape = (batch_size, latent_dim), mean = 0., stddev = epsilon_std)\n",
    "    return z_mean + tf.math.exp(z_log_var / 2) * epsilon"
   ]
  },
  {
   "cell_type": "code",
   "execution_count": 5,
   "id": "d1695bd3",
   "metadata": {},
   "outputs": [
    {
     "name": "stdout",
     "output_type": "stream",
     "text": [
      "Model: \"encoder\"\n",
      "__________________________________________________________________________________________________\n",
      " Layer (type)                   Output Shape         Param #     Connected to                     \n",
      "==================================================================================================\n",
      " input (InputLayer)             [(None, 28, 28, 1)]  0           []                               \n",
      "                                                                                                  \n",
      " conv-1 (Conv2D)                (None, 28, 28, 32)   320         ['input[0][0]']                  \n",
      "                                                                                                  \n",
      " conv-2 (Conv2D)                (None, 14, 14, 32)   9248        ['conv-1[0][0]']                 \n",
      "                                                                                                  \n",
      " dropout (Dropout)              (None, 14, 14, 32)   0           ['conv-2[0][0]']                 \n",
      "                                                                                                  \n",
      " flatten (Flatten)              (None, 6272)         0           ['dropout[0][0]']                \n",
      "                                                                                                  \n",
      " dense (Dense)                  (None, 128)          802944      ['flatten[0][0]']                \n",
      "                                                                                                  \n",
      " z_mean (Dense)                 (None, 128)          16512       ['dense[0][0]']                  \n",
      "                                                                                                  \n",
      " z_log_var (Dense)              (None, 128)          16512       ['dense[0][0]']                  \n",
      "                                                                                                  \n",
      " z (Lambda)                     (100, 128)           0           ['z_mean[0][0]',                 \n",
      "                                                                  'z_log_var[0][0]']              \n",
      "                                                                                                  \n",
      "==================================================================================================\n",
      "Total params: 845,536\n",
      "Trainable params: 845,536\n",
      "Non-trainable params: 0\n",
      "__________________________________________________________________________________________________\n"
     ]
    }
   ],
   "source": [
    "input_img = Input(shape=(img_height, img_width, no_channels), name=\"input\")\n",
    "x = Conv2D(32, 3, padding = 'same', activation = 'relu', name=\"conv-1\")(input_img)\n",
    "x = Conv2D(32, 3, padding = 'same', activation = 'relu', strides = (2, 2), name=\"conv-2\")(x)\n",
    "x = Dropout(0.25)(x)\n",
    "x = Flatten()(x)\n",
    "x = Dense(128, activation='relu')(x)\n",
    "z_mean = Dense(latent_dim, name='z_mean')(x)\n",
    "z_log_var = Dense(latent_dim, name='z_log_var')(x)\n",
    "z = Lambda(sampling, output_shape=(latent_dim,), name='z')([z_mean, z_log_var])\n",
    "encoder = Model(input_img, [z_mean, z_log_var, z], name=\"encoder\")\n",
    "encoder.summary()"
   ]
  },
  {
   "cell_type": "code",
   "execution_count": 6,
   "id": "9c73120b",
   "metadata": {},
   "outputs": [
    {
     "name": "stdout",
     "output_type": "stream",
     "text": [
      "Model: \"decoder\"\n",
      "_________________________________________________________________\n",
      " Layer (type)                Output Shape              Param #   \n",
      "=================================================================\n",
      " z_sampling (InputLayer)     [(None, 128)]             0         \n",
      "                                                                 \n",
      " dense_1 (Dense)             (None, 128)               16512     \n",
      "                                                                 \n",
      " dense_2 (Dense)             (None, 6272)              809088    \n",
      "                                                                 \n",
      " reshape (Reshape)           (None, 14, 14, 32)        0         \n",
      "                                                                 \n",
      " dropout_1 (Dropout)         (None, 14, 14, 32)        0         \n",
      "                                                                 \n",
      " convtranspose-1 (Conv2DTran  (None, 28, 28, 32)       9248      \n",
      " spose)                                                          \n",
      "                                                                 \n",
      " convtranspose-2 (Conv2DTran  (None, 28, 28, 1)        289       \n",
      " spose)                                                          \n",
      "                                                                 \n",
      "=================================================================\n",
      "Total params: 835,137\n",
      "Trainable params: 835,137\n",
      "Non-trainable params: 0\n",
      "_________________________________________________________________\n"
     ]
    }
   ],
   "source": [
    "latent_inputs = Input(shape=(latent_dim,), name='z_sampling')\n",
    "x = Dense(128, activation='relu')(latent_inputs)\n",
    "x = Dense(14 * 14 * 32, activation='relu')(x)\n",
    "x = Reshape((14, 14, 32))(x)\n",
    "x = Dropout(0.25)(x)\n",
    "x = Conv2DTranspose(32, 3, padding = 'same', activation = 'relu', strides = (2, 2), name=\"convtranspose-1\")(x)\n",
    "output = Conv2DTranspose(1, 3, padding = 'same', activation = 'sigmoid', name=\"convtranspose-2\")(x)\n",
    "decoder = Model(latent_inputs, output, name=\"decoder\")\n",
    "decoder.summary()"
   ]
  },
  {
   "cell_type": "code",
   "execution_count": 7,
   "id": "1036ec7c",
   "metadata": {},
   "outputs": [
    {
     "name": "stdout",
     "output_type": "stream",
     "text": [
      "Model: \"vae_mlp\"\n",
      "_________________________________________________________________\n",
      " Layer (type)                Output Shape              Param #   \n",
      "=================================================================\n",
      " input (InputLayer)          [(None, 28, 28, 1)]       0         \n",
      "                                                                 \n",
      " encoder (Functional)        [(None, 128),             845536    \n",
      "                              (None, 128),                       \n",
      "                              (100, 128)]                        \n",
      "                                                                 \n",
      " decoder (Functional)        (None, 28, 28, 1)         835137    \n",
      "                                                                 \n",
      "=================================================================\n",
      "Total params: 1,680,673\n",
      "Trainable params: 1,680,673\n",
      "Non-trainable params: 0\n",
      "_________________________________________________________________\n"
     ]
    }
   ],
   "source": [
    "outputs = decoder(encoder(input_img)[2])\n",
    "vae = Model(input_img, outputs, name='vae_mlp')\n",
    "vae.summary()"
   ]
  },
  {
   "cell_type": "code",
   "execution_count": 8,
   "id": "11beb746",
   "metadata": {},
   "outputs": [
    {
     "name": "stdout",
     "output_type": "stream",
     "text": [
      "Epoch 1/50\n",
      "600/600 [==============================] - 11s 13ms/step - loss: 186.2601 - val_loss: 152.7639\n",
      "Epoch 2/50\n",
      "600/600 [==============================] - 7s 12ms/step - loss: 146.7495 - val_loss: 135.4678\n",
      "Epoch 3/50\n",
      "600/600 [==============================] - 7s 12ms/step - loss: 134.2635 - val_loss: 125.3119\n",
      "Epoch 4/50\n",
      "600/600 [==============================] - 7s 12ms/step - loss: 126.0366 - val_loss: 118.5247\n",
      "Epoch 5/50\n",
      "600/600 [==============================] - 7s 12ms/step - loss: 120.9705 - val_loss: 114.4231\n",
      "Epoch 6/50\n",
      "600/600 [==============================] - 8s 13ms/step - loss: 117.8923 - val_loss: 112.4430\n",
      "Epoch 7/50\n",
      "600/600 [==============================] - 7s 12ms/step - loss: 115.7411 - val_loss: 111.1286\n",
      "Epoch 8/50\n",
      "600/600 [==============================] - 7s 12ms/step - loss: 114.3363 - val_loss: 110.1165\n",
      "Epoch 9/50\n",
      "600/600 [==============================] - 8s 13ms/step - loss: 113.3737 - val_loss: 109.8660\n",
      "Epoch 10/50\n",
      "600/600 [==============================] - 7s 12ms/step - loss: 112.6572 - val_loss: 109.2828\n",
      "Epoch 11/50\n",
      "600/600 [==============================] - 7s 12ms/step - loss: 111.9215 - val_loss: 108.7508\n",
      "Epoch 12/50\n",
      "600/600 [==============================] - 7s 12ms/step - loss: 111.3542 - val_loss: 108.7383\n",
      "Epoch 13/50\n",
      "600/600 [==============================] - 8s 13ms/step - loss: 110.8421 - val_loss: 107.9142\n",
      "Epoch 14/50\n",
      "600/600 [==============================] - 7s 12ms/step - loss: 110.2471 - val_loss: 107.8759\n",
      "Epoch 15/50\n",
      "600/600 [==============================] - 7s 12ms/step - loss: 109.8098 - val_loss: 107.7520\n",
      "Epoch 16/50\n",
      "600/600 [==============================] - 7s 12ms/step - loss: 109.4277 - val_loss: 107.5224\n",
      "Epoch 17/50\n",
      "600/600 [==============================] - 7s 12ms/step - loss: 109.1736 - val_loss: 107.9656\n",
      "Epoch 18/50\n",
      "600/600 [==============================] - 8s 13ms/step - loss: 108.9843 - val_loss: 108.0033\n",
      "Epoch 19/50\n",
      "600/600 [==============================] - 7s 12ms/step - loss: 108.6870 - val_loss: 108.1668\n",
      "Epoch 20/50\n",
      "600/600 [==============================] - 8s 13ms/step - loss: 108.5560 - val_loss: 107.1221\n",
      "Epoch 21/50\n",
      "600/600 [==============================] - 8s 13ms/step - loss: 108.4187 - val_loss: 107.7372\n",
      "Epoch 22/50\n",
      "600/600 [==============================] - 8s 13ms/step - loss: 108.2373 - val_loss: 107.9437\n",
      "Epoch 23/50\n",
      "600/600 [==============================] - 8s 13ms/step - loss: 108.0997 - val_loss: 107.6930\n",
      "Epoch 24/50\n",
      "600/600 [==============================] - 7s 12ms/step - loss: 107.9063 - val_loss: 107.5668\n",
      "Epoch 25/50\n",
      "600/600 [==============================] - 8s 13ms/step - loss: 107.7677 - val_loss: 107.0462\n",
      "Epoch 26/50\n",
      "600/600 [==============================] - 7s 12ms/step - loss: 107.7406 - val_loss: 106.3898\n",
      "Epoch 27/50\n",
      "600/600 [==============================] - 7s 12ms/step - loss: 107.5936 - val_loss: 108.6600\n",
      "Epoch 28/50\n",
      "600/600 [==============================] - 7s 12ms/step - loss: 107.4511 - val_loss: 106.8506\n",
      "Epoch 29/50\n",
      "600/600 [==============================] - 7s 12ms/step - loss: 107.3336 - val_loss: 107.8668\n",
      "Epoch 30/50\n",
      "600/600 [==============================] - 8s 13ms/step - loss: 107.2194 - val_loss: 107.4130\n",
      "Epoch 31/50\n",
      "600/600 [==============================] - 7s 12ms/step - loss: 107.1362 - val_loss: 108.7532\n",
      "Epoch 32/50\n",
      "600/600 [==============================] - 7s 12ms/step - loss: 107.0312 - val_loss: 106.7861\n",
      "Epoch 33/50\n",
      "600/600 [==============================] - 7s 12ms/step - loss: 106.8622 - val_loss: 107.8751\n",
      "Epoch 34/50\n",
      "600/600 [==============================] - 7s 12ms/step - loss: 106.7543 - val_loss: 107.1326\n",
      "Epoch 35/50\n",
      "600/600 [==============================] - 7s 12ms/step - loss: 106.7158 - val_loss: 108.1508\n",
      "Epoch 36/50\n",
      "600/600 [==============================] - 7s 12ms/step - loss: 106.6148 - val_loss: 106.6280\n",
      "Epoch 37/50\n",
      "600/600 [==============================] - 7s 12ms/step - loss: 106.5211 - val_loss: 107.7933\n",
      "Epoch 38/50\n",
      "600/600 [==============================] - 7s 12ms/step - loss: 106.4337 - val_loss: 106.0345\n",
      "Epoch 39/50\n",
      "600/600 [==============================] - 7s 12ms/step - loss: 106.3847 - val_loss: 106.9198\n",
      "Epoch 40/50\n",
      "600/600 [==============================] - 7s 12ms/step - loss: 106.3326 - val_loss: 107.2642\n",
      "Epoch 41/50\n",
      "600/600 [==============================] - 7s 12ms/step - loss: 106.3291 - val_loss: 107.4410\n",
      "Epoch 42/50\n",
      "600/600 [==============================] - 7s 12ms/step - loss: 106.1553 - val_loss: 106.6581\n",
      "Epoch 43/50\n",
      "600/600 [==============================] - 8s 13ms/step - loss: 106.0730 - val_loss: 107.4695\n",
      "Epoch 44/50\n",
      "600/600 [==============================] - 7s 12ms/step - loss: 106.0413 - val_loss: 106.9978\n",
      "Epoch 45/50\n",
      "600/600 [==============================] - 7s 12ms/step - loss: 105.9782 - val_loss: 107.6057\n",
      "Epoch 46/50\n",
      "600/600 [==============================] - 7s 12ms/step - loss: 105.9827 - val_loss: 108.9520\n",
      "Epoch 47/50\n",
      "600/600 [==============================] - 7s 12ms/step - loss: 105.9704 - val_loss: 106.3987\n",
      "Epoch 48/50\n",
      "600/600 [==============================] - 7s 12ms/step - loss: 105.8089 - val_loss: 106.2454\n",
      "Epoch 49/50\n",
      "600/600 [==============================] - 7s 12ms/step - loss: 105.7728 - val_loss: 107.6018\n",
      "Epoch 50/50\n",
      "600/600 [==============================] - 7s 12ms/step - loss: 105.8023 - val_loss: 106.7855\n"
     ]
    }
   ],
   "source": [
    "xent_loss = original_dim * bce(axis = [1,2], reduction=tf.keras.losses.Reduction.NONE)(input_img, outputs)\n",
    "kl_loss = -0.5 * tf.reduce_sum(1 + z_log_var - tf.square(z_mean) - tf.exp(z_log_var), axis = -1)\n",
    "vae.add_loss(xent_loss + kl_loss)\n",
    "vae.compile(optimizer = 'Adam')\n",
    "history = vae.fit(x_train, x_train,\n",
    "        shuffle=True,\n",
    "        epochs=epochs,\n",
    "        batch_size=batch_size,\n",
    "        validation_data = [x_test, x_test])"
   ]
  },
  {
   "cell_type": "code",
   "execution_count": 27,
   "id": "da1fd2ec-0eea-4bb5-8c76-b6d5eaaa1c9f",
   "metadata": {},
   "outputs": [
    {
     "data": {
      "image/png": "[encoded data removed]",
      "text/plain": [
       "<Figure size 640x480 with 1 Axes>"
      ]
     },
     "metadata": {},
     "output_type": "display_data"
    }
   ],
   "source": [
    "plt.plot(history.history['loss'])\n",
    "plt.plot(history.history['val_loss'])\n",
    "plt.title('model accuracy')\n",
    "plt.ylabel('accuracy')\n",
    "plt.xlabel('epoch')\n",
    "plt.legend(['train', 'val'], loc='upper right')\n",
    "plt.show()"
   ]
  },
  {
   "cell_type": "markdown",
   "id": "7574f3ad",
   "metadata": {},
   "source": [
    "### Predictions"
   ]
  },
  {
   "cell_type": "code",
   "execution_count": 17,
   "id": "ddd87fa8-c7f9-4923-bf2f-fdeb0ce6ad92",
   "metadata": {},
   "outputs": [
    {
     "name": "stdout",
     "output_type": "stream",
     "text": [
      "100/100 [==============================] - 0s 2ms/step\n",
      "313/313 [==============================] - 1s 2ms/step\n"
     ]
    },
    {
     "data": {
      "text/plain": [
       "<matplotlib.image.AxesImage at 0x25356f0d900>"
      ]
     },
     "execution_count": 17,
     "metadata": {},
     "output_type": "execute_result"
    },
    {
     "data": {
      "image/png": "[encoded data removed]",
      "text/plain": [
       "<Figure size 640x480 with 1 Axes>"
      ]
     },
     "metadata": {},
     "output_type": "display_data"
    }
   ],
   "source": [
    "test = encoder.predict(x_test, batch_size = batch_size)\n",
    "results = decoder.predict(test[2])\n",
    "plt.imshow(results[100,:,:,0])"
   ]
  },
  {
   "cell_type": "markdown",
   "id": "fa8b679e",
   "metadata": {},
   "source": [
    "### Generating"
   ]
  },
  {
   "cell_type": "code",
   "execution_count": 10,
   "id": "3e0c6e38",
   "metadata": {},
   "outputs": [
    {
     "name": "stderr",
     "output_type": "stream",
     "text": [
      "  0%|                                                                                          | 0/225 [00:00<?, ?it/s]\n"
     ]
    },
    {
     "ename": "ValueError",
     "evalue": "in user code:\n\n    File \"C:\\Users\\ttummpa\\Miniconda3\\envs\\s9\\lib\\site-packages\\keras\\engine\\training.py\", line 2041, in predict_function  *\n        return step_function(self, iterator)\n    File \"C:\\Users\\ttummpa\\Miniconda3\\envs\\s9\\lib\\site-packages\\keras\\engine\\training.py\", line 2027, in step_function  **\n        outputs = model.distribute_strategy.run(run_step, args=(data,))\n    File \"C:\\Users\\ttummpa\\Miniconda3\\envs\\s9\\lib\\site-packages\\keras\\engine\\training.py\", line 2015, in run_step  **\n        outputs = model.predict_step(data)\n    File \"C:\\Users\\ttummpa\\Miniconda3\\envs\\s9\\lib\\site-packages\\keras\\engine\\training.py\", line 1983, in predict_step\n        return self(x, training=False)\n    File \"C:\\Users\\ttummpa\\Miniconda3\\envs\\s9\\lib\\site-packages\\keras\\utils\\traceback_utils.py\", line 70, in error_handler\n        raise e.with_traceback(filtered_tb) from None\n    File \"C:\\Users\\ttummpa\\Miniconda3\\envs\\s9\\lib\\site-packages\\keras\\engine\\input_spec.py\", line 295, in assert_input_compatibility\n        raise ValueError(\n\n    ValueError: Input 0 of layer \"decoder\" is incompatible with the layer: expected shape=(None, 128), found shape=(None, 2)\n",
     "output_type": "error",
     "traceback": [
      "\u001b[1;31m---------------------------------------------------------------------------\u001b[0m",
      "\u001b[1;31mValueError\u001b[0m                                Traceback (most recent call last)",
      "Cell \u001b[1;32mIn [10], line 13\u001b[0m\n\u001b[0;32m     11\u001b[0m \u001b[38;5;28;01mfor\u001b[39;00m j, xi \u001b[38;5;129;01min\u001b[39;00m \u001b[38;5;28menumerate\u001b[39m(grid_y):\n\u001b[0;32m     12\u001b[0m     z_sample \u001b[38;5;241m=\u001b[39m np\u001b[38;5;241m.\u001b[39marray([[xi, yi]])\n\u001b[1;32m---> 13\u001b[0m     x_decoded \u001b[38;5;241m=\u001b[39m \u001b[43mdecoder\u001b[49m\u001b[38;5;241;43m.\u001b[39;49m\u001b[43mpredict\u001b[49m\u001b[43m(\u001b[49m\u001b[43mz_sample\u001b[49m\u001b[43m,\u001b[49m\u001b[43m \u001b[49m\u001b[43mverbose\u001b[49m\u001b[43m \u001b[49m\u001b[38;5;241;43m=\u001b[39;49m\u001b[43m \u001b[49m\u001b[38;5;241;43m0\u001b[39;49m\u001b[43m)\u001b[49m\n\u001b[0;32m     14\u001b[0m     digit \u001b[38;5;241m=\u001b[39m x_decoded[\u001b[38;5;241m0\u001b[39m]\u001b[38;5;241m.\u001b[39mreshape(digit_size, digit_size)\n\u001b[0;32m     15\u001b[0m     figure[i \u001b[38;5;241m*\u001b[39m digit_size: (i \u001b[38;5;241m+\u001b[39m \u001b[38;5;241m1\u001b[39m) \u001b[38;5;241m*\u001b[39m digit_size,\n\u001b[0;32m     16\u001b[0m            j \u001b[38;5;241m*\u001b[39m digit_size: (j \u001b[38;5;241m+\u001b[39m \u001b[38;5;241m1\u001b[39m) \u001b[38;5;241m*\u001b[39m digit_size] \u001b[38;5;241m=\u001b[39m digit\n",
      "File \u001b[1;32m~\\Miniconda3\\envs\\s9\\lib\\site-packages\\keras\\utils\\traceback_utils.py:70\u001b[0m, in \u001b[0;36mfilter_traceback.<locals>.error_handler\u001b[1;34m(*args, **kwargs)\u001b[0m\n\u001b[0;32m     67\u001b[0m     filtered_tb \u001b[38;5;241m=\u001b[39m _process_traceback_frames(e\u001b[38;5;241m.\u001b[39m__traceback__)\n\u001b[0;32m     68\u001b[0m     \u001b[38;5;66;03m# To get the full stack trace, call:\u001b[39;00m\n\u001b[0;32m     69\u001b[0m     \u001b[38;5;66;03m# `tf.debugging.disable_traceback_filtering()`\u001b[39;00m\n\u001b[1;32m---> 70\u001b[0m     \u001b[38;5;28;01mraise\u001b[39;00m e\u001b[38;5;241m.\u001b[39mwith_traceback(filtered_tb) \u001b[38;5;28;01mfrom\u001b[39;00m \u001b[38;5;28mNone\u001b[39m\n\u001b[0;32m     71\u001b[0m \u001b[38;5;28;01mfinally\u001b[39;00m:\n\u001b[0;32m     72\u001b[0m     \u001b[38;5;28;01mdel\u001b[39;00m filtered_tb\n",
      "File \u001b[1;32m~\\AppData\\Local\\Temp\\__autograph_generated_fileuj7ir5tr.py:15\u001b[0m, in \u001b[0;36mouter_factory.<locals>.inner_factory.<locals>.tf__predict_function\u001b[1;34m(iterator)\u001b[0m\n\u001b[0;32m     13\u001b[0m \u001b[38;5;28;01mtry\u001b[39;00m:\n\u001b[0;32m     14\u001b[0m     do_return \u001b[38;5;241m=\u001b[39m \u001b[38;5;28;01mTrue\u001b[39;00m\n\u001b[1;32m---> 15\u001b[0m     retval_ \u001b[38;5;241m=\u001b[39m ag__\u001b[38;5;241m.\u001b[39mconverted_call(ag__\u001b[38;5;241m.\u001b[39mld(step_function), (ag__\u001b[38;5;241m.\u001b[39mld(\u001b[38;5;28mself\u001b[39m), ag__\u001b[38;5;241m.\u001b[39mld(iterator)), \u001b[38;5;28;01mNone\u001b[39;00m, fscope)\n\u001b[0;32m     16\u001b[0m \u001b[38;5;28;01mexcept\u001b[39;00m:\n\u001b[0;32m     17\u001b[0m     do_return \u001b[38;5;241m=\u001b[39m \u001b[38;5;28;01mFalse\u001b[39;00m\n",
      "\u001b[1;31mValueError\u001b[0m: in user code:\n\n    File \"C:\\Users\\ttummpa\\Miniconda3\\envs\\s9\\lib\\site-packages\\keras\\engine\\training.py\", line 2041, in predict_function  *\n        return step_function(self, iterator)\n    File \"C:\\Users\\ttummpa\\Miniconda3\\envs\\s9\\lib\\site-packages\\keras\\engine\\training.py\", line 2027, in step_function  **\n        outputs = model.distribute_strategy.run(run_step, args=(data,))\n    File \"C:\\Users\\ttummpa\\Miniconda3\\envs\\s9\\lib\\site-packages\\keras\\engine\\training.py\", line 2015, in run_step  **\n        outputs = model.predict_step(data)\n    File \"C:\\Users\\ttummpa\\Miniconda3\\envs\\s9\\lib\\site-packages\\keras\\engine\\training.py\", line 1983, in predict_step\n        return self(x, training=False)\n    File \"C:\\Users\\ttummpa\\Miniconda3\\envs\\s9\\lib\\site-packages\\keras\\utils\\traceback_utils.py\", line 70, in error_handler\n        raise e.with_traceback(filtered_tb) from None\n    File \"C:\\Users\\ttummpa\\Miniconda3\\envs\\s9\\lib\\site-packages\\keras\\engine\\input_spec.py\", line 295, in assert_input_compatibility\n        raise ValueError(\n\n    ValueError: Input 0 of layer \"decoder\" is incompatible with the layer: expected shape=(None, 128), found shape=(None, 2)\n"
     ]
    }
   ],
   "source": [
    "n = 15  # figure with 15x15 digits\n",
    "digit_size = 28\n",
    "figure = np.zeros((digit_size * n, digit_size * n))\n",
    "# linearly spaced coordinates on the unit square were transformed through the inverse CDF (ppf) of the Gaussian\n",
    "# to produce values of the latent variables z, since the prior of the latent space is Gaussian\n",
    "grid_x = norm.ppf(np.linspace(0.05, 0.95, n))\n",
    "grid_y = norm.ppf(np.linspace(0.05, 0.95, n))\n",
    "\n",
    "with tqdm(total=len(grid_x) * len(grid_y)) as pbar:\n",
    "    for i, yi in enumerate(grid_x):\n",
    "        for j, xi in enumerate(grid_y):\n",
    "            z_sample = np.array([[xi, yi]])\n",
    "            x_decoded = decoder.predict(z_sample, verbose = 0)\n",
    "            digit = x_decoded[0].reshape(digit_size, digit_size)\n",
    "            figure[i * digit_size: (i + 1) * digit_size,\n",
    "                   j * digit_size: (j + 1) * digit_size] = digit\n",
    "            pbar.update(1)\n",
    "\n",
    "plt.figure(figsize=(10, 10))\n",
    "plt.imshow(figure, cmap='Greys_r')\n",
    "plt.show()"
   ]
  }
 ],
 "metadata": {
  "kernelspec": {
   "display_name": "Python 3 (ipykernel)",
   "language": "python",
   "name": "python3"
  },
  "language_info": {
   "codemirror_mode": {
    "name": "ipython",
    "version": 3
   },
   "file_extension": ".py",
   "mimetype": "text/x-python",
   "name": "python",
   "nbconvert_exporter": "python",
   "pygments_lexer": "ipython3",
   "version": "3.10.6"
  }
 },
 "nbformat": 4,
 "nbformat_minor": 5
}
