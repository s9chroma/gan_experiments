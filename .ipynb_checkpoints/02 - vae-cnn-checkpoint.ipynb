{
 "cells": [
  {
   "cell_type": "code",
   "execution_count": 1,
   "id": "1bdf4431-1cfb-4f62-94b9-e93e7976a889",
   "metadata": {},
   "outputs": [],
   "source": [
    "import tensorflow as tf\n",
    "from tensorflow.keras.layers import Input, Dense, Lambda, Conv2D, Dropout, Flatten, Reshape, Conv2DTranspose\n",
    "from tensorflow.keras.models import Model\n",
    "from tensorflow.keras.losses import BinaryCrossentropy as bce\n",
    "from tensorflow.keras.datasets import mnist\n",
    "import numpy as np\n",
    "import matplotlib.pyplot as plt\n",
    "from scipy.stats import norm\n",
    "from tqdm import tqdm"
   ]
  },
  {
   "cell_type": "markdown",
   "id": "5fbcef3f",
   "metadata": {},
   "source": [
    "### Load dataset"
   ]
  },
  {
   "cell_type": "code",
   "execution_count": 2,
   "id": "fab74fd2",
   "metadata": {},
   "outputs": [
    {
     "ename": "NameError",
     "evalue": "name 'tf' is not defined",
     "output_type": "error",
     "traceback": [
      "\u001b[1;31m---------------------------------------------------------------------------\u001b[0m",
      "\u001b[1;31mNameError\u001b[0m                                 Traceback (most recent call last)",
      "Cell \u001b[1;32mIn [2], line 5\u001b[0m\n\u001b[0;32m      3\u001b[0m x_train \u001b[38;5;241m=\u001b[39m x_train\u001b[38;5;241m.\u001b[39mastype(\u001b[38;5;124m'\u001b[39m\u001b[38;5;124mfloat32\u001b[39m\u001b[38;5;124m'\u001b[39m) \u001b[38;5;241m/\u001b[39m \u001b[38;5;241m255.\u001b[39m\n\u001b[0;32m      4\u001b[0m x_test \u001b[38;5;241m=\u001b[39m x_test\u001b[38;5;241m.\u001b[39mastype(\u001b[38;5;124m'\u001b[39m\u001b[38;5;124mfloat32\u001b[39m\u001b[38;5;124m'\u001b[39m) \u001b[38;5;241m/\u001b[39m \u001b[38;5;241m255.\u001b[39m\n\u001b[1;32m----> 5\u001b[0m x_train \u001b[38;5;241m=\u001b[39m x_train[:,:,:,\u001b[43mtf\u001b[49m\u001b[38;5;241m.\u001b[39mnewaxis]\n\u001b[0;32m      6\u001b[0m x_test \u001b[38;5;241m=\u001b[39m x_test[:,:,:,tf\u001b[38;5;241m.\u001b[39mnewaxis]\n",
      "\u001b[1;31mNameError\u001b[0m: name 'tf' is not defined"
     ]
    }
   ],
   "source": [
    "(x_train, y_train), (x_test, y_test) = mnist.load_data()\n",
    "\n",
    "x_train = x_train.astype('float32') / 255.\n",
    "x_test = x_test.astype('float32') / 255.\n",
    "x_train = x_train[:,:,:,tf.newaxis]\n",
    "x_test = x_test[:,:,:,tf.newaxis]"
   ]
  },
  {
   "cell_type": "markdown",
   "id": "0b518414",
   "metadata": {},
   "source": [
    "### Model"
   ]
  },
  {
   "cell_type": "code",
   "execution_count": null,
   "id": "c3219989",
   "metadata": {},
   "outputs": [],
   "source": [
    "batch_size = 100\n",
    "original_dim = 28 * 28\n",
    "latent_dim = 2\n",
    "intermediate_dim = 256\n",
    "epochs = 50\n",
    "epsilon_std = 1.0\n",
    "img_height = 28\n",
    "img_width = 28\n",
    "no_channels = 1"
   ]
  },
  {
   "cell_type": "code",
   "execution_count": null,
   "id": "0b386a49",
   "metadata": {},
   "outputs": [],
   "source": [
    "def sampling(args):\n",
    "    z_mean, z_log_var = args\n",
    "    epsilon = tf.random.normal(shape = (batch_size, latent_dim), mean = 0., stddev = epsilon_std)\n",
    "    return z_mean + tf.math.exp(z_log_var / 2) * epsilon"
   ]
  },
  {
   "cell_type": "code",
   "execution_count": null,
   "id": "51bfc599",
   "metadata": {},
   "outputs": [],
   "source": [
    "input_img = Input(shape=(img_height, img_width, no_channels), name=\"input\")\n",
    "x = Conv2D(32, 3, padding = 'same', activation = 'relu', name=\"conv-1\")(input_img)\n",
    "x = Conv2D(32, 3, padding = 'same', activation = 'relu', strides = (2, 2), name=\"conv-2\")(x)\n",
    "x = Dropout(0.25)(x)\n",
    "x = Flatten()(x)\n",
    "x = Dense(128, activation='relu')(x)\n",
    "z_mean = Dense(latent_dim, name='z_mean')(x)\n",
    "z_log_var = Dense(latent_dim, name='z_log_var')(x)\n",
    "z = Lambda(sampling, output_shape=(latent_dim,), name='z')([z_mean, z_log_var])\n",
    "encoder = Model(input_img, [z_mean, z_log_var, z], name=\"encoder\")\n",
    "encoder.summary()"
   ]
  },
  {
   "cell_type": "code",
   "execution_count": null,
   "id": "7df7945f",
   "metadata": {},
   "outputs": [],
   "source": [
    "latent_inputs = Input(shape=(latent_dim,), name='z_sampling')\n",
    "x = Dense(128, activation='relu')(latent_inputs)\n",
    "x = Dense(14 * 14 * 32, activation='relu')(x)\n",
    "x = Reshape((14, 14, 32))(x)\n",
    "x = Dropout(0.25)(x)\n",
    "x = Conv2DTranspose(32, 3, padding = 'same', activation = 'relu', strides = (2, 2), name=\"convtranspose-1\")(x)\n",
    "output = Conv2DTranspose(1, 3, padding = 'same', activation = 'sigmoid', name=\"convtranspose-2\")(x)\n",
    "decoder = Model(latent_inputs, output, name=\"decoder\")\n",
    "decoder.summary()"
   ]
  },
  {
   "cell_type": "code",
   "execution_count": null,
   "id": "d0770d25",
   "metadata": {},
   "outputs": [],
   "source": [
    "outputs = decoder(encoder(input_img)[2])\n",
    "vae = Model(input_img, outputs, name='vae_mlp')\n",
    "vae.summary()"
   ]
  },
  {
   "cell_type": "code",
   "execution_count": null,
   "id": "a8d6b1eb",
   "metadata": {},
   "outputs": [],
   "source": [
    "xent_loss = original_dim * bce()(input_img, outputs)\n",
    "kl_loss = -0.5 * tf.reduce_sum(1 + z_log_var - tf.square(z_mean) - tf.exp(z_log_var), axis = -1)\n",
    "vae.add_loss(tf.reduce_mean(xent_loss + kl_loss))\n",
    "vae.compile(optimizer = 'rmsprop')\n",
    "vae.fit(x_train, x_train,\n",
    "        shuffle=True,\n",
    "        epochs=epochs,\n",
    "        batch_size=batch_size)"
   ]
  }
 ],
 "metadata": {
  "kernelspec": {
   "display_name": "Python 3 (ipykernel)",
   "language": "python",
   "name": "python3"
  },
  "language_info": {
   "codemirror_mode": {
    "name": "ipython",
    "version": 3
   },
   "file_extension": ".py",
   "mimetype": "text/x-python",
   "name": "python",
   "nbconvert_exporter": "python",
   "pygments_lexer": "ipython3",
   "version": "3.9.12"
  }
 },
 "nbformat": 4,
 "nbformat_minor": 5
}
